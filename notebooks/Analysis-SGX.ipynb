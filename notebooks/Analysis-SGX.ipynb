{
    "cells": [
        {
            "attachments": {},
            "cell_type": "markdown",
            "metadata": {
                "azdata_cell_guid": "b7780a4a-abb9-48c8-a51d-447569816981"
            },
            "source": [
                "# Analysis SGX"
            ]
        },
        {
            "cell_type": "code",
            "execution_count": 5,
            "metadata": {
                "azdata_cell_guid": "70bc2b23-78ff-4ec2-8abc-c9443f847f40",
                "language": "python"
            },
            "outputs": [],
            "source": [
                "import json\n",
                "import csv\n",
                "import pandas as pd\n",
                "from datetime import datetime\n",
                "\n",
                "import matplotlib.pyplot as plt\n",
                "import mplfinance as mpf"
            ]
        },
        {
            "attachments": {},
            "cell_type": "markdown",
            "metadata": {
                "azdata_cell_guid": "b7668ee9-fd6c-445a-905b-d3535d78c03b"
            },
            "source": [
                "Load file\n"
            ]
        },
        {
            "cell_type": "code",
            "execution_count": 6,
            "metadata": {
                "azdata_cell_guid": "da899a95-d621-45f3-8714-4719cd04e14e",
                "language": "python"
            },
            "outputs": [
                {
                    "ename": "FileNotFoundError",
                    "evalue": "[Errno 2] No such file or directory: '../data-dump/C09.SI-max-1mo.csv'",
                    "output_type": "error",
                    "traceback": [
                        "\u001b[1;31m---------------------------------------------------------------------------\u001b[0m",
                        "\u001b[1;31mFileNotFoundError\u001b[0m                         Traceback (most recent call last)",
                        "\u001b[1;32mc:\\src\\github.com\\ongzhixian\\Oap\\notebooks\\Analysis-SGX.ipynb Cell 4\u001b[0m in \u001b[0;36m<cell line: 4>\u001b[1;34m()\u001b[0m\n\u001b[0;32m      <a href='vscode-notebook-cell:/c%3A/src/github.com/ongzhixian/Oap/notebooks/Analysis-SGX.ipynb#W3sZmlsZQ%3D%3D?line=0'>1</a>\u001b[0m TIME, VOLUME, OPEN, HIGH, LOW, CLOSE, ADJ_CLOSE \u001b[39m=\u001b[39m \u001b[39m0\u001b[39m, \u001b[39m1\u001b[39m, \u001b[39m2\u001b[39m, \u001b[39m3\u001b[39m, \u001b[39m4\u001b[39m, \u001b[39m5\u001b[39m, \u001b[39m6\u001b[39m\n\u001b[0;32m      <a href='vscode-notebook-cell:/c%3A/src/github.com/ongzhixian/Oap/notebooks/Analysis-SGX.ipynb#W3sZmlsZQ%3D%3D?line=2'>3</a>\u001b[0m flatten_data \u001b[39m=\u001b[39m []\n\u001b[1;32m----> <a href='vscode-notebook-cell:/c%3A/src/github.com/ongzhixian/Oap/notebooks/Analysis-SGX.ipynb#W3sZmlsZQ%3D%3D?line=3'>4</a>\u001b[0m \u001b[39mwith\u001b[39;00m \u001b[39mopen\u001b[39;49m(\u001b[39m'\u001b[39;49m\u001b[39m../data-dump/C09.SI-max-1mo.csv\u001b[39;49m\u001b[39m'\u001b[39;49m, \u001b[39m'\u001b[39;49m\u001b[39mr\u001b[39;49m\u001b[39m'\u001b[39;49m, encoding\u001b[39m=\u001b[39;49m\u001b[39m'\u001b[39;49m\u001b[39mUTF8\u001b[39;49m\u001b[39m'\u001b[39;49m, newline\u001b[39m=\u001b[39;49m\u001b[39m'\u001b[39;49m\u001b[39m'\u001b[39;49m) \u001b[39mas\u001b[39;00m in_file:\n\u001b[0;32m      <a href='vscode-notebook-cell:/c%3A/src/github.com/ongzhixian/Oap/notebooks/Analysis-SGX.ipynb#W3sZmlsZQ%3D%3D?line=4'>5</a>\u001b[0m     csv_reader \u001b[39m=\u001b[39m csv\u001b[39m.\u001b[39mreader(in_file)\n\u001b[0;32m      <a href='vscode-notebook-cell:/c%3A/src/github.com/ongzhixian/Oap/notebooks/Analysis-SGX.ipynb#W3sZmlsZQ%3D%3D?line=5'>6</a>\u001b[0m     \u001b[39mfor\u001b[39;00m row \u001b[39min\u001b[39;00m csv_reader:\n",
                        "\u001b[1;31mFileNotFoundError\u001b[0m: [Errno 2] No such file or directory: '../data-dump/C09.SI-max-1mo.csv'"
                    ]
                }
            ],
            "source": [
                "TIME, VOLUME, OPEN, HIGH, LOW, CLOSE, ADJ_CLOSE = 0, 1, 2, 3, 4, 5, 6\n",
                "\n",
                "flatten_data = []\n",
                "with open('../data-dump/C09.SI-max-1mo.csv', 'r', encoding='UTF8', newline='') as in_file:\n",
                "    csv_reader = csv.reader(in_file)\n",
                "    for row in csv_reader:\n",
                "        flatten_data.append([\n",
                "            datetime.strptime(row[TIME], \"%Y-%m-%d %H:%M:%S\"), \n",
                "            int(row[VOLUME]), \n",
                "            float(row[OPEN]), \n",
                "            float(row[HIGH]), \n",
                "            float(row[LOW]), \n",
                "            float(row[CLOSE])\n",
                "        ])\n"
            ]
        },
        {
            "cell_type": "code",
            "execution_count": null,
            "metadata": {
                "azdata_cell_guid": "15979a71-0649-4125-8068-83ba297acf7e",
                "language": "python"
            },
            "outputs": [],
            "source": [
                "# instrument = json_data['instrument']\n",
                "# granularity = json_data['granularity']\n",
                "# candles = json_data['candles']\n",
                "\n",
                "# print(f\"Instrument: [ {instrument} ], Granularity: [ {granularity} ]\")\n"
            ]
        },
        {
            "cell_type": "code",
            "execution_count": null,
            "metadata": {
                "azdata_cell_guid": "bf17e48e-66fd-4df5-acf8-6cf32a020b25",
                "language": "python"
            },
            "outputs": [],
            "source": [
                "# flatten_data = [\n",
                "#     [ \n",
                "#         datetime.strptime(x['time'], \"%Y-%m-%dT%H:%M:%S.%f000Z\"), \n",
                "#         bool(x['complete']), \n",
                "#         int(x['volume']), \n",
                "#         float(x['mid']['o']), \n",
                "#         float(x['mid']['h']), \n",
                "#         float(x['mid']['l']), \n",
                "#         float(x['mid']['c'])\n",
                "#     ] for x in candles]\n",
                "df = pd.DataFrame(\n",
                "    flatten_data, \n",
                "    columns=['time', 'Volume', 'Open', 'High', 'Low', 'Close'])\n",
                "\n",
                "# df.index = pd.DatetimeIndex(df['time'])\n",
                "\n",
                "print(f\"df shape: {df.shape}\")\n",
                "\n",
                "# print(df.info())"
            ]
        },
        {
            "cell_type": "code",
            "execution_count": null,
            "metadata": {
                "azdata_cell_guid": "25a82f99-e8cc-4d8c-bd23-dc33db8a6f5d",
                "language": "python"
            },
            "outputs": [],
            "source": [
                "df['ma'] = df['Close'].rolling(20).mean()\n",
                "df['ewm'] = df['Close'].ewm(span=20, adjust=False).mean()\n",
                "# df.head(30)\n",
                "index_df = df.set_index('time')\n",
                "index_df.tail(28)"
            ]
        },
        {
            "cell_type": "code",
            "execution_count": null,
            "metadata": {},
            "outputs": [],
            "source": [
                "# This plots close\n",
                "mpf.plot(index_df.tail(28),type='line', volume=True, title='Sample close plot')\n",
                "\n",
                "# Need someway to auto figure out hlines\n",
                "mpf.plot(index_df, type='line', \n",
                "    mav=(20, 30),\n",
                "    #hlines=dict(hlines=[1850,1865],colors=['g','r'],linestyle='-.',linewidths=(1,1)),\n",
                "    volume=True)\n",
                "    "
            ]
        },
        {
            "cell_type": "code",
            "execution_count": null,
            "metadata": {
                "azdata_cell_guid": "354bfa38-7db8-4dea-bf59-ea12177a59ea",
                "language": "python"
            },
            "outputs": [],
            "source": [
                "# https://github.com/matplotlib/mplfinance\n",
                "dfx = df.tail(50).set_index('time')\n",
                "dfx"
            ]
        },
        {
            "cell_type": "code",
            "execution_count": null,
            "metadata": {},
            "outputs": [],
            "source": [
                "mpf.plot(dfx, type='line', \n",
                "    mav=(20, 30),\n",
                "    # hlines=dict(hlines=[1850,1865],colors=['g','r'],linestyle='-.',linewidths=(1,1)),\n",
                "    volume=True)\n",
                "    "
            ]
        },
        {
            "cell_type": "code",
            "execution_count": null,
            "metadata": {
                "azdata_cell_guid": "ef918e01-e13f-45cd-9a51-7ee0dc0c7fef",
                "language": "python"
            },
            "outputs": [],
            "source": [
                "ap0 = [ \n",
                "    mpf.make_addplot(dfx['ma'],color='r', width=1, panel=2),  # uses panel 0 by default\n",
                "    mpf.make_addplot(dfx['ewm'],color='lime', width=1, panel=2),  # uses panel 0 by default\n",
                "    #mpf.make_addplot(dfx['Volume'],type='line',color='lime', linestyle=' ',panel =1, mav = (4, 12))\n",
                "    ]\n",
                "\n",
                "#  mpf.available_styles()\n",
                "\n",
                "\n",
                "mc = mpf.make_marketcolors(up='g',down='r',\n",
                "                           edge='lime',\n",
                "                           wick={'up':'blue','down':'orange'},\n",
                "                           volume='gray',\n",
                "                           ohlc='black')\n",
                "s  = mpf.make_mpf_style(\n",
                "    base_mpf_style='charles',\n",
                "    mavcolors=['fuchsia','g','r'],\n",
                "    #mavcolors=['#1f77b4','#ff7f0e','#2ca02c'],\n",
                "    #marketcolors=mc\n",
                "    )\n",
                "\n",
                "mpf.plot(dfx, type='ohlc',\n",
                "    mav=(4, 12),\n",
                "    volume=True, \n",
                "    addplot=ap0, \n",
                "    style=s, \n",
                "    title=\"sample\", \n",
                "    linecolor='indigo', update_width_config=dict(line_width=1))"
            ]
        },
        {
            "cell_type": "code",
            "execution_count": null,
            "metadata": {
                "azdata_cell_guid": "9afa1489-e420-4b48-96bd-73c49f938f4c",
                "language": "python"
            },
            "outputs": [],
            "source": [
                "mpf.plot(dfx,volume=True)\n"
            ]
        },
        {
            "cell_type": "code",
            "execution_count": null,
            "metadata": {
                "azdata_cell_guid": "503adb41-5fec-4cf9-bc1e-4feb7086e886",
                "language": "python"
            },
            "outputs": [],
            "source": [
                "mpf.plot(dfx,type='candle',volume=True,main_panel=1,volume_panel=0)"
            ]
        },
        {
            "cell_type": "code",
            "execution_count": null,
            "metadata": {
                "azdata_cell_guid": "f820f5cc-3340-4f6c-b971-9dea977ef674",
                "language": "python"
            },
            "outputs": [],
            "source": []
        }
    ],
    "metadata": {
        "kernelspec": {
            "display_name": "Python 3.9.12 ('.venv': venv)",
            "language": "python",
            "name": "python3"
        },
        "language_info": {
            "codemirror_mode": {
                "name": "ipython",
                "version": 3
            },
            "file_extension": ".py",
            "mimetype": "text/x-python",
            "name": "python",
            "nbconvert_exporter": "python",
            "pygments_lexer": "ipython3",
            "version": "3.9.12"
        },
        "vscode": {
            "interpreter": {
                "hash": "06952b7bb55558005bcdabb4ea54c9e401230edc4e3a12a60ff1ffe634f40ea8"
            }
        }
    },
    "nbformat": 4,
    "nbformat_minor": 2
}
